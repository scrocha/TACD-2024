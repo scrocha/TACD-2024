{
 "cells": [
  {
   "cell_type": "code",
   "execution_count": 26,
   "id": "d64a3066",
   "metadata": {},
   "outputs": [
    {
     "data": {
      "text/plain": [
       "292701"
      ]
     },
     "execution_count": 26,
     "metadata": {},
     "output_type": "execute_result"
    }
   ],
   "source": [
    "292701"
   ]
  },
  {
   "cell_type": "code",
   "execution_count": 27,
   "id": "0884a9f6",
   "metadata": {
    "tags": []
   },
   "outputs": [],
   "source": [
    "import matplotlib.pyplot as plt\n",
    "import seaborn as sns\n",
    "import pandas as pd\n",
    "import numpy as np\n",
    "from sklearn.model_selection import train_test_split\n",
    "from sklearn.metrics import roc_auc_score"
   ]
  },
  {
   "cell_type": "markdown",
   "id": "799d1afd-bbf2-48d1-93be-79fbbdd43547",
   "metadata": {},
   "source": [
    "# Tarefa 3 - Neural Networks\n",
    "Third assessed coursework for the course: Técnicas e Algoritmos em Ciência de Dados\n",
    "\n",
    "This tarefa provides an exciting opportunity for students to put their knowledge acquired in class into practice, using neural networks to solve real-world problems in both classification and regression. Students will apply the concepts they have learned to build, train, and optimize neural networks, using a validation set to fine-tune hyperparameters. Students will also get used to generating important plots during training to analyse the models' behaviour. By the end of the project, students will have gained hands-on experience in implementing neural networks.\n",
    "\n",
    "## General guidelines:\n",
    "\n",
    "* This work must be entirely original. You are allowed to research documentation for specific libraries, but copying solutions from the internet or your classmates is strictly prohibited. Any such actions will result in a deduction of points for the coursework.\n",
    "* Please enter your code in the designated areas of the notebook. You can create additional code cells to experiment with, but __make sure to place your final solutions where they are requested in the notebook.__\n",
    "* Before submitting your work, make sure to rename the file to the random number that you created for the previous coursework (for example, 289479.ipynb).\n",
    "\n",
    "## Notebook Overview:\n",
    "\n",
    "1. [Regression](#Regression) (50%)\n",
    "2. [Classification](#Classification) (50%)"
   ]
  },
  {
   "cell_type": "markdown",
   "id": "f1cd2f07-f367-4318-96f4-56d85d13c8f3",
   "metadata": {
    "tags": []
   },
   "source": [
    "# Regression\n",
    "\n",
    "**Download from ECLASS**\n",
    "- Tarefa_3_template.ipynb\n",
    "- energy_efficiency.csv\n",
    "\n",
    "**Dataset and Problem Description**\n",
    "\n",
    "In this exercise, you will use the Energy Efficiency Prediction dataset. This dataset contains information about the energy efficiency of buildings based on eight features, including the size of the building, the orientation, and the type of building materials used. The dataset includes two targets: heating load and cooling load, which represent the energy required to heat and cool the building, respectively.\n",
    "\n",
    "This dataset is useful for building neural networks that predict the energy efficiency of buildings, which is an important problem in the field of sustainable energy. The dataset has been used in several machine learning research papers and provides a challenging regression problem.\n",
    "\n",
    "**Exercise Description: Energy Efficiency Prediction with Neural Networks**\n",
    "\n",
    "In this exercise, you will use the Energy Efficiency Prediction dataset provided.\n",
    "You will build and train a neural network to predict the heating load (column labelled y1 in the dataset) and the cooling load (column labelled y2) of a building based on its energy efficiency features. \n",
    "\n",
    "\n",
    "### To complete this exercise, you will write code to build and train neural networks for this problem:\n",
    "\n",
    "1. Split the dataset into training, validation, and test sets, using a 70:15:15 ratio.\n",
    "\n",
    "2. Use numpy, build a neural network that takes the energy efficiency features as input and predicts the heating and the cooling load as outputs. You will choose the number of neurons per layers and the number of layers, but each layer will have the same number of neurons. These two values must be input parameters for your neural network. That is, you can’t hard-code each layer, meaning that you will have to write code that is able to work with a variable number of layers and neurons. \n",
    "\n",
    "3. Code the forward pass and backpropagation algorithm to learn the weights of the neural network. Use the training set to train the neural network and update the weights using stochastic gradient descent. For the hidden layers use the sigmoid activation function. You will need to regularize your neural network using weight decay, that is, you will include a regularization term in your error function.\n",
    "\n",
    "4. Monitor the training by plotting the training and validation losses across the epochs. \n",
    "\n",
    "The performance of your neural network will be different depending on the number of layers, number of neurons per layer and the value of λ that controls the amount of weight decay. You will experiment with 3 values of λ: 0 (no weight decay), 0.001 and 0.0001.\n",
    "To choose the best network configuration and assess its performance you will:\n",
    "\n",
    "1. Choose 3 possible values of number hidden layers (for example, 1 to 3) and 3 different values of neurons per layer (for example, 100, 200, and 300), but you can also choose different values. \n",
    "\n",
    "2. Calculate the loss for each configuration on the validation set.\n",
    "\n",
    "3. Generate 3 heatmaps, one for each value of the λ regularization parameter, displaying the loss on the validation set by plotting the number of layers and number of neurons in a grid. This will help you visualise the best configuration for the neural network. \n",
    "\n",
    "4. Train your final model selecting the best combination of hyper-parameters and evaluate the final performance of the neural network using the test set and the root mean squared error as the metric and report that.\n",
    "\n",
    "**Important:**\n",
    "- Train for 50 epochs.\n",
    "- Set the learning rate η to 0.01.\n"
   ]
  },
  {
   "cell_type": "code",
   "execution_count": 28,
   "id": "0a97e220",
   "metadata": {},
   "outputs": [],
   "source": [
    "# Reading csv and separating between data and target\n",
    "data = pd.read_csv(\"./energy_efficiency.csv\")\n",
    "X = data.values[:,:-2]\n",
    "y = data.values[:,-2:]\n",
    "# Spliting the data\n",
    "X_train, X_tv, y_train, y_tv = train_test_split(X, y, test_size=0.3, random_state=42)\n",
    "X_test, X_val, y_test, y_val = train_test_split(X_tv, y_tv, test_size=0.5, random_state=42)"
   ]
  },
  {
   "cell_type": "code",
   "execution_count": 35,
   "id": "186fb6bf-419a-4895-b9df-b31b5278b3d6",
   "metadata": {},
   "outputs": [
    {
     "data": {
      "text/plain": [
       "(537, 2)"
      ]
     },
     "execution_count": 35,
     "metadata": {},
     "output_type": "execute_result"
    }
   ],
   "source": [
    "## your code goes here:\n",
    "def sigmoid_activation(z:np.ndarray) -> np.ndarray:\n",
    "    return 1 / (1 + np.exp(-z))\n",
    "\n",
    "def rmse(y_pred:np.ndarray, y_real:np.ndarray) -> float:\n",
    "    return np.sqrt(np.mean(np.power(y_pred - y_real, 2)))\n",
    "\n",
    "def sigmoid_derivative(z:np.ndarray) -> np.ndarray:\n",
    "    return sigmoid_activation(z) * (1 - sigmoid_activation(z))\n",
    "\n",
    "def neural_network_train(X:np.ndarray, y_real:np.ndarray, neurons_amount:int,\n",
    "                         layers_num:int, epochs:int,\n",
    "                         weight_decay:float, learning_rate:float) -> list[list[np.ndarray]]:\n",
    "    # Initialize the layers with random values and save in a list of layers\n",
    "    layers_list = list()\n",
    "    W_input = np.random.normal(size=(X.shape[1], neurons_amount))\n",
    "    b_input = np.random.normal(size=(neurons_amount, 1))\n",
    "    layers_list.append([W_input, b_input, 0])\n",
    "    # Initialize the hidden layers\n",
    "    if layers_num > 2:\n",
    "        for i in range(layers_num-2):\n",
    "            W_hidden = np.random.normal(size=(neurons_amount, neurons_amount))\n",
    "            b_hidden = np.random.normal(size=(neurons_amount, 1))\n",
    "            layers_list.append([W_hidden, b_hidden, 0])\n",
    "    # Finally, initialize the output layer\n",
    "    W_output = np.random.normal(size=(neurons_amount, y_real.shape[1]))\n",
    "    b_output = np.random.normal(size=(y_real.shape[1], 1))\n",
    "    layers_list.append([W_output, b_output, 0])\n",
    "\n",
    "\n",
    "    for epoch in range(epochs):\n",
    "        layer_1 = sigmoid_activation(X @ layers_list[0][0] + layers_list[0][1].T)\n",
    "        layers_list[0][2] = layer_1\n",
    "        \n",
    "        if layers_num > 2:\n",
    "            for index in range(1, len(layers_list) - 1):\n",
    "                layer = sigmoid_activation(layers_list[index-1][2] @ layers_list[index][0] + layers_list[index][1].T)\n",
    "                layers_list[index][2]= layer\n",
    "\n",
    "        layer_f = layers_list[-2][2] @ layers_list[-1][0] + layers_list[-1][1].T\n",
    "        layers_list[-1][2] = layer_f\n",
    "\n",
    "    return layers_list\n",
    "\n",
    "\n",
    "neural_network_train(X_train, y_train, 3, 4, 50, 0, 0.01)"
   ]
  },
  {
   "cell_type": "markdown",
   "id": "93de5467-3e3c-45d4-bf03-04baeaf20193",
   "metadata": {},
   "source": [
    "# Classification\n",
    "\n",
    "**Download the data from ECLASS**\n",
    "- drug_side_effects.csv\n",
    "- drug_features.csv\n",
    "\n",
    "**Dataset description:**\n",
    "\n",
    "In this exercise, you will build and train a neural network to predict the occurrence of drug side effects. The dataset is derived from the SIDER dataset, containing relatively common side effects that can occur for at least 50 drugs. This produces a total of 740 drugs and 256 side effects. The features represent various molecular properties, including molecular weight, number of atoms, number of rings, number of hydrogen bond donors and acceptors, logP, topological polar surface area (TPSA), number of rotatable bonds, number of aromatic rings, number of aliphatic rings, number of saturated rings, and number of heteroatoms. \n",
    "\n",
    "**Remember that each drug can cause many side effects, not only one.** \n",
    "\n",
    "*Feel free to explore the dataset and check the potential side effects of popular medications!*\n",
    "\n",
    "### To complete this exercise, follow these steps:\n",
    "\n",
    "1. Load the dataset and split it into training, validation, and test sets, using an 80:10:10 ratio. \n",
    "\n",
    "2. Standardize the features by removing the mean and scaling to unit variance. To do this, perform the following for each feature (column) in the dataset:\n",
    "    - Calculate the mean and standard deviation across the training set for that feature.\n",
    "    - Subtract the mean from each value in that feature and divide by the standard deviation.\n",
    "    - Apply the same transformation to the validation and test sets using the mean and standard deviation calculated from the training set.\n",
    "\n",
    "**Observation:** you need to code this part, you’re not allowed to use scikit-learn.\n",
    "\n",
    "*Normalization of features is important for neural networks because:*\n",
    "- *It ensures that all features have the same scale, preventing certain features from dominating the learning process due to their larger magnitude.*\n",
    "- *It improves the numerical stability of the training process, making the neural network less sensitive to the choice of learning rate and other hyperparameters.*\n",
    "\n",
    "3. Build a neural network using NumPy that takes in the features as input and predicts the occurrence of side effects. You will choose the number of neurons per layer and the number of layers. You will provide this information as an input list where the length of the list determines the number of hidden layers, and each element is the number of neurons of that hidden layer. For example, an array `layers = [64,128,256]` should produce a network with 4 layers, with 3 hidden layers with 64, 128, and 256 neurons each. For the hidden layers use the sigmoid activation function. You will need to regularize your neural network using weight decay, that is, you will include a regularization term in your error function.\n",
    "\n",
    "4. Code the forward pass and backpropagation algorithm to learn the weights of the neural network. Use the training set to train the neural network and update the weights using stochastic gradient descent. Don’t forget about the biases. \n",
    "\n",
    "5. Monitor the training by plotting the training and validation losses across the epochs.\n",
    "\n",
    "\t**Observation:** make sure the loss goes down during training, acceptable values are within 0.2 – 2.8 approximately. These values depend on the choice of the different hyperparameters. Test only sensible values taking into account the dataset, i.e., number of features, drugs, side effects. \n",
    "\n",
    "The performance of your neural network will be different depending on the number of layers, number of neurons per layer and the value of λ that controls the amount of weight decay. You will experiment with 3 values of λ: 0 (no weight decay), 1 and 0.01.\n",
    "To choose the best network configuration and assess its performance you will:\n",
    "\n",
    "1. For each value of λ, select 3 different layer configurations (note that in this exercise, the number of neurons per layer does not require to be the same for each layer).\n",
    "2. Calculate the loss for each configuration on the validation set.\n",
    "3. At the end of this process, you should be left with 9 loss values (one for each configuration). Train your final model selecting the best combination of hyper-parameters and evaluate the final performance of the neural network using the test set and the Area Under the ROC Curve (AUROC) with the function provided in the Jupyter notebook. \n",
    "\t\n",
    "\t*Observation: don’t expect impressive AUROC values, as this is a highly complex problem that can’t be solved easily with a simple neural network with standard features. Expect values in the range (0.55-0.75).*\n",
    "\n",
    "**Important:**\n",
    "- Train for 50 epochs.\n",
    "- Set the learning rate η to 0.01.\n",
    "\n"
   ]
  },
  {
   "cell_type": "code",
   "execution_count": 30,
   "id": "1256e9d5-779c-4a34-96ca-44275e9efc3a",
   "metadata": {
    "tags": []
   },
   "outputs": [],
   "source": [
    "## your code goes here: "
   ]
  },
  {
   "cell_type": "code",
   "execution_count": 31,
   "id": "27e0dced",
   "metadata": {},
   "outputs": [
    {
     "ename": "TypeError",
     "evalue": "missing a required argument: 'y_true'",
     "output_type": "error",
     "traceback": [
      "\u001b[1;31m---------------------------------------------------------------------------\u001b[0m",
      "\u001b[1;31mTypeError\u001b[0m                                 Traceback (most recent call last)",
      "Cell \u001b[1;32mIn[31], line 3\u001b[0m\n\u001b[0;32m      1\u001b[0m \u001b[38;5;66;03m## to calculate the test set AUROC use the following code:\u001b[39;00m\n\u001b[1;32m----> 3\u001b[0m auroc \u001b[38;5;241m=\u001b[39m \u001b[43mroc_auc_score\u001b[49m\u001b[43m(\u001b[49m\u001b[43m)\u001b[49m\n",
      "File \u001b[1;32mc:\\Users\\silla\\Desktop\\Trabalhos\\TACD-2024\\.venv\\Lib\\site-packages\\sklearn\\utils\\_param_validation.py:192\u001b[0m, in \u001b[0;36mvalidate_params.<locals>.decorator.<locals>.wrapper\u001b[1;34m(*args, **kwargs)\u001b[0m\n\u001b[0;32m    189\u001b[0m func_sig \u001b[38;5;241m=\u001b[39m signature(func)\n\u001b[0;32m    191\u001b[0m \u001b[38;5;66;03m# Map *args/**kwargs to the function signature\u001b[39;00m\n\u001b[1;32m--> 192\u001b[0m params \u001b[38;5;241m=\u001b[39m \u001b[43mfunc_sig\u001b[49m\u001b[38;5;241;43m.\u001b[39;49m\u001b[43mbind\u001b[49m\u001b[43m(\u001b[49m\u001b[38;5;241;43m*\u001b[39;49m\u001b[43margs\u001b[49m\u001b[43m,\u001b[49m\u001b[43m \u001b[49m\u001b[38;5;241;43m*\u001b[39;49m\u001b[38;5;241;43m*\u001b[39;49m\u001b[43mkwargs\u001b[49m\u001b[43m)\u001b[49m\n\u001b[0;32m    193\u001b[0m params\u001b[38;5;241m.\u001b[39mapply_defaults()\n\u001b[0;32m    195\u001b[0m \u001b[38;5;66;03m# ignore self/cls and positional/keyword markers\u001b[39;00m\n",
      "File \u001b[1;32m~\\AppData\\Local\\Programs\\Python\\Python312\\Lib\\inspect.py:3242\u001b[0m, in \u001b[0;36mSignature.bind\u001b[1;34m(self, *args, **kwargs)\u001b[0m\n\u001b[0;32m   3237\u001b[0m \u001b[38;5;28;01mdef\u001b[39;00m \u001b[38;5;21mbind\u001b[39m(\u001b[38;5;28mself\u001b[39m, \u001b[38;5;241m/\u001b[39m, \u001b[38;5;241m*\u001b[39margs, \u001b[38;5;241m*\u001b[39m\u001b[38;5;241m*\u001b[39mkwargs):\n\u001b[0;32m   3238\u001b[0m \u001b[38;5;250m    \u001b[39m\u001b[38;5;124;03m\"\"\"Get a BoundArguments object, that maps the passed `args`\u001b[39;00m\n\u001b[0;32m   3239\u001b[0m \u001b[38;5;124;03m    and `kwargs` to the function's signature.  Raises `TypeError`\u001b[39;00m\n\u001b[0;32m   3240\u001b[0m \u001b[38;5;124;03m    if the passed arguments can not be bound.\u001b[39;00m\n\u001b[0;32m   3241\u001b[0m \u001b[38;5;124;03m    \"\"\"\u001b[39;00m\n\u001b[1;32m-> 3242\u001b[0m     \u001b[38;5;28;01mreturn\u001b[39;00m \u001b[38;5;28;43mself\u001b[39;49m\u001b[38;5;241;43m.\u001b[39;49m\u001b[43m_bind\u001b[49m\u001b[43m(\u001b[49m\u001b[43margs\u001b[49m\u001b[43m,\u001b[49m\u001b[43m \u001b[49m\u001b[43mkwargs\u001b[49m\u001b[43m)\u001b[49m\n",
      "File \u001b[1;32m~\\AppData\\Local\\Programs\\Python\\Python312\\Lib\\inspect.py:3157\u001b[0m, in \u001b[0;36mSignature._bind\u001b[1;34m(self, args, kwargs, partial)\u001b[0m\n\u001b[0;32m   3155\u001b[0m                 msg \u001b[38;5;241m=\u001b[39m \u001b[38;5;124m'\u001b[39m\u001b[38;5;124mmissing a required\u001b[39m\u001b[38;5;132;01m{argtype}\u001b[39;00m\u001b[38;5;124m argument: \u001b[39m\u001b[38;5;132;01m{arg!r}\u001b[39;00m\u001b[38;5;124m'\u001b[39m\n\u001b[0;32m   3156\u001b[0m                 msg \u001b[38;5;241m=\u001b[39m msg\u001b[38;5;241m.\u001b[39mformat(arg\u001b[38;5;241m=\u001b[39mparam\u001b[38;5;241m.\u001b[39mname, argtype\u001b[38;5;241m=\u001b[39margtype)\n\u001b[1;32m-> 3157\u001b[0m                 \u001b[38;5;28;01mraise\u001b[39;00m \u001b[38;5;167;01mTypeError\u001b[39;00m(msg) \u001b[38;5;28;01mfrom\u001b[39;00m \u001b[38;5;28;01mNone\u001b[39;00m\n\u001b[0;32m   3158\u001b[0m \u001b[38;5;28;01melse\u001b[39;00m:\n\u001b[0;32m   3159\u001b[0m     \u001b[38;5;66;03m# We have a positional argument to process\u001b[39;00m\n\u001b[0;32m   3160\u001b[0m     \u001b[38;5;28;01mtry\u001b[39;00m:\n",
      "\u001b[1;31mTypeError\u001b[0m: missing a required argument: 'y_true'"
     ]
    }
   ],
   "source": [
    "## to calculate the test set AUROC use the following code:\n",
    "\n",
    "auroc = roc_auc_score()"
   ]
  }
 ],
 "metadata": {
  "kernelspec": {
   "display_name": "Python 3 (ipykernel)",
   "language": "python",
   "name": "python3"
  },
  "language_info": {
   "codemirror_mode": {
    "name": "ipython",
    "version": 3
   },
   "file_extension": ".py",
   "mimetype": "text/x-python",
   "name": "python",
   "nbconvert_exporter": "python",
   "pygments_lexer": "ipython3",
   "version": "3.12.3"
  }
 },
 "nbformat": 4,
 "nbformat_minor": 5
}
