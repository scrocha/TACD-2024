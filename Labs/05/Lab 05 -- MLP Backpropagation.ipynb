{
 "cells": [
  {
   "cell_type": "code",
   "execution_count": 125,
   "id": "425ac6e9-8919-4c06-be1c-782241f835f6",
   "metadata": {
    "tags": []
   },
   "outputs": [],
   "source": [
    "import numpy as np\n",
    "import pandas as pd"
   ]
  },
  {
   "cell_type": "markdown",
   "id": "fc6f6b7d-1fdf-43a4-bd7c-03d90114d3fb",
   "metadata": {},
   "source": [
    "# Lab 9 - Multi-layer Perceptron Forward Pass & Backpropagation"
   ]
  },
  {
   "cell_type": "markdown",
   "id": "b99c1b83-fb9a-4321-882b-fd0c74d2ab1b",
   "metadata": {},
   "source": [
    "## Part I\n",
    "For this exercise you will implement a simple 2-layer perceptron with the forward pass and the backpropagation to learn the weights\n",
    "\n",
    "For the first part you'll build and train a 2-layer neural network that predicts the prices of houses, using the usual Boston housing dataset."
   ]
  },
  {
   "cell_type": "code",
   "execution_count": 126,
   "id": "7804bef6-2bd6-4d05-bc4e-f9d8325f12ec",
   "metadata": {
    "tags": []
   },
   "outputs": [],
   "source": [
    "boston = pd.read_csv('./BostonHousing.txt')"
   ]
  },
  {
   "cell_type": "markdown",
   "id": "d6bdfc73-7702-4a3c-af9f-6fb897ec643c",
   "metadata": {
    "tags": []
   },
   "source": [
    "As usual, consider the MEDV as your target variable. \n",
    "* Split the data into training, validation and testing (70,15,15)%\n",
    "* Experiment with different number of neurons per layer for your network, using the validation set"
   ]
  },
  {
   "cell_type": "code",
   "execution_count": 127,
   "id": "5df5bfc8-26c0-4d48-9c3c-05a9e404e1d4",
   "metadata": {
    "tags": []
   },
   "outputs": [],
   "source": [
    "# your code goes here\n",
    "from sklearn.model_selection import train_test_split\n",
    "# The target variable is the last column of our dataset\n",
    "X = boston.values[:,:-1]\n",
    "y = boston.values[:,1].reshape(-1, 1)\n",
    "# Now lets split the 3 results\n",
    "X_train, X_tv, y_train, y_tv = train_test_split(X, y, test_size=0.3, random_state=0)\n",
    "X_test, X_val, y_test, y_val = train_test_split(X_tv, y_tv, test_size=0.5, random_state=0)"
   ]
  },
  {
   "cell_type": "code",
   "execution_count": 128,
   "id": "8728c491",
   "metadata": {},
   "outputs": [],
   "source": [
    "def sigmoid_activation(z:np.ndarray) -> np.ndarray:\n",
    "    # your code goes here\n",
    "    return 1 / (1 + np.exp(-z))\n",
    "\n",
    "def rmse(y_pred:np.ndarray, y_real:np.ndarray) -> float:\n",
    "    return np.sqrt(np.mean(np.power(y_pred - y_real, 2)))\n",
    "\n",
    "def sigmoid_derivative(z:np.ndarray) -> np.ndarray:\n",
    "    # your code goes here\n",
    "    return sigmoid_activation(z) * (1 - sigmoid_activation(z))\n"
   ]
  },
  {
   "cell_type": "code",
   "execution_count": 129,
   "id": "dcc26211-91c1-47f9-8779-eb723b0c209e",
   "metadata": {},
   "outputs": [
    {
     "name": "stdout",
     "output_type": "stream",
     "text": [
      "RMSE para 1 neurônio(s): 27.548609537790604\n",
      "RMSE para 2 neurônio(s): 27.168490218752858\n",
      "RMSE para 3 neurônio(s): 26.533824135874994\n",
      "RMSE para 4 neurônio(s): 28.24071786214621\n",
      "RMSE para 5 neurônio(s): 26.79438856956638\n",
      "RMSE para 6 neurônio(s): 25.580149431258594\n",
      "RMSE para 7 neurônio(s): 29.742960217344137\n",
      "RMSE para 8 neurônio(s): 27.85825903091911\n",
      "RMSE para 9 neurônio(s): 24.35804546307932\n",
      "RMSE para 10 neurônio(s): 29.72297820690501\n",
      "RMSE para 11 neurônio(s): 25.930005139711206\n",
      "RMSE para 12 neurônio(s): 31.375757059417488\n",
      "RMSE para 13 neurônio(s): 27.391372750500555\n"
     ]
    },
    {
     "name": "stderr",
     "output_type": "stream",
     "text": [
      "C:\\Users\\silla\\AppData\\Local\\Temp\\ipykernel_18708\\3923154604.py:3: RuntimeWarning: overflow encountered in exp\n",
      "  return 1 / (1 + np.exp(-z))\n"
     ]
    }
   ],
   "source": [
    "# your code goes here\n",
    "\n",
    "def backpropagation_2layer(X:np.ndarray, y_real:np.ndarray, dim_input:int,\n",
    "                            dim_hidden:int, dim_output:int, repeats:int=100) -> tuple[np.ndarray]:\n",
    "    \n",
    "    # Initializing weights and biases with random values\n",
    "    # First we initialize the input to hidden layers of weights and biases\n",
    "    W_input = np.random.normal(size=(dim_input, dim_hidden))\n",
    "    b_input = np.random.normal(size=(dim_hidden, 1))\n",
    "    # Then the hidden to output layers of weights and biases\n",
    "    W_output = np.random.normal(size=(dim_hidden, dim_output))\n",
    "    b_output = np.random.normal(size=(dim_output, 1))\n",
    "\n",
    "    for repeat in range(repeats):\n",
    "        hidden_layer_i = X @ W_input + b_input.T\n",
    "        hidden_layer_o = sigmoid_activation(hidden_layer_i)\n",
    "\n",
    "        output_layer = hidden_layer_o @ W_output + b_output.T\n",
    "\n",
    "        derivative_wo = hidden_layer_o.T @ (output_layer - y_real)\n",
    "        derivative_bo = np.sum(output_layer - y_real)\n",
    "\n",
    "        error_h = (output_layer - y_real) @ W_output.T @ sigmoid_derivative(hidden_layer_i)\n",
    "        derivative_wi = X.T @ error_h\n",
    "        derivative_bi = np.sum(error_h, axis=0)\n",
    "\n",
    "        W_input -= derivative_wo\n",
    "        b_input -= derivative_bo\n",
    "\n",
    "        W_output -= derivative_wi\n",
    "        b_output -= derivative_bi\n",
    "\n",
    "\n",
    "    return W_input, b_input, W_output, b_output\n",
    "\n",
    "\n",
    "\n",
    "# for i in range(1, 14):\n",
    "#     hidden_layer_dim = i\n",
    "#     y_val_pred = two_layer_perceptron(X_val, sigmoid_activation, X_val.shape[1], hidden_layer_dim, 1)\n",
    "#     val_rmse =rmse(y_val_pred, y_val)\n",
    "#     print(f\"RMSE para {i} neurônio(s): {val_rmse}\")\n"
   ]
  },
  {
   "cell_type": "markdown",
   "id": "fa6650ab-79e5-4636-a4c9-84b977c48541",
   "metadata": {},
   "source": [
    "## Part II \n",
    "\n",
    "For this exercise you will build and train a 2-layer neural network that predicts the exact digit from a hand-written image, using the MNIST dataset. \n",
    "For this exercise, add weight decay to your network."
   ]
  },
  {
   "cell_type": "code",
   "execution_count": 130,
   "id": "3bfe2473-16e8-4dce-9e5b-7d5ce1154200",
   "metadata": {
    "tags": []
   },
   "outputs": [],
   "source": [
    "from sklearn.datasets import load_digits"
   ]
  },
  {
   "cell_type": "code",
   "execution_count": 131,
   "id": "4f8f04ee-c8e6-4531-9ad4-b0e530e1f92d",
   "metadata": {
    "tags": []
   },
   "outputs": [],
   "source": [
    "digits = load_digits()"
   ]
  },
  {
   "cell_type": "code",
   "execution_count": 132,
   "id": "6c49e3cd-e16a-4847-ac73-b9628f3f159a",
   "metadata": {
    "tags": []
   },
   "outputs": [],
   "source": [
    "X = digits.data\n",
    "y = digits.target"
   ]
  },
  {
   "cell_type": "code",
   "execution_count": 133,
   "id": "172b3419-d470-433f-87f9-4df67e4761e8",
   "metadata": {
    "tags": []
   },
   "outputs": [
    {
     "data": {
      "text/plain": [
       "(1797, 64)"
      ]
     },
     "execution_count": 133,
     "metadata": {},
     "output_type": "execute_result"
    }
   ],
   "source": [
    "X.shape"
   ]
  },
  {
   "cell_type": "markdown",
   "id": "ebdaf177-1cda-4c04-8d12-090678310602",
   "metadata": {},
   "source": [
    "Again, you will split the data into training, validation and testing."
   ]
  },
  {
   "cell_type": "code",
   "execution_count": 134,
   "id": "8519363c-f7e0-43a8-ba4e-a33ab9d5b96e",
   "metadata": {},
   "outputs": [],
   "source": [
    "# your code goes here:\n",
    "# Now lets split the 3 results\n",
    "X_train, X_tv, y_train, y_tv = train_test_split(X, y, test_size=0.3, random_state=0)\n",
    "X_test, X_val, y_test, y_val = train_test_split(X_tv, y_tv, test_size=0.5, random_state=0)"
   ]
  },
  {
   "cell_type": "code",
   "execution_count": 135,
   "id": "015f701c-f816-4208-8cdc-4ba32f03f08d",
   "metadata": {},
   "outputs": [],
   "source": [
    "# your code goes here:\n"
   ]
  }
 ],
 "metadata": {
  "kernelspec": {
   "display_name": "Python 3 (ipykernel)",
   "language": "python",
   "name": "python3"
  },
  "language_info": {
   "codemirror_mode": {
    "name": "ipython",
    "version": 3
   },
   "file_extension": ".py",
   "mimetype": "text/x-python",
   "name": "python",
   "nbconvert_exporter": "python",
   "pygments_lexer": "ipython3",
   "version": "3.12.3"
  }
 },
 "nbformat": 4,
 "nbformat_minor": 5
}
