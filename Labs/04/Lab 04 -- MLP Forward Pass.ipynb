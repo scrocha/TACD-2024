{
 "cells": [
  {
   "cell_type": "code",
   "execution_count": 1,
   "id": "425ac6e9-8919-4c06-be1c-782241f835f6",
   "metadata": {
    "tags": []
   },
   "outputs": [],
   "source": [
    "import numpy as np\n",
    "import pandas as pd"
   ]
  },
  {
   "cell_type": "markdown",
   "id": "fc6f6b7d-1fdf-43a4-bd7c-03d90114d3fb",
   "metadata": {},
   "source": [
    "# Lab 4 - Multi-layer Perceptron Forward Pass"
   ]
  },
  {
   "cell_type": "markdown",
   "id": "c353aba0-7656-45d0-961a-850e9f31f967",
   "metadata": {},
   "source": [
    "## Part I\n",
    "For this exercise you will implement a simple 2-layer perceptron (forward pass)\n",
    "\n",
    "For the first part you'll write a function that computes the forward pass of a 2-layer perecptron that predicts the prices of houses, using the usual Boston housing dataset."
   ]
  },
  {
   "cell_type": "code",
   "execution_count": 2,
   "id": "7804bef6-2bd6-4d05-bc4e-f9d8325f12ec",
   "metadata": {
    "tags": []
   },
   "outputs": [],
   "source": [
    "boston = pd.read_csv('./BostonHousing.txt')"
   ]
  },
  {
   "cell_type": "markdown",
   "id": "8bc1af35-c3bc-48b5-916a-63bf0dd535cb",
   "metadata": {
    "tags": []
   },
   "source": [
    "As usual, consider the MEDV as your target variable. \n",
    "* Split the data into training, validation and testing (70,15,15)% (you will need this for the next lab as we will build from this lab)"
   ]
  },
  {
   "cell_type": "code",
   "execution_count": 3,
   "id": "5df5bfc8-26c0-4d48-9c3c-05a9e404e1d4",
   "metadata": {
    "tags": []
   },
   "outputs": [],
   "source": [
    "# your code goes here\n",
    "from sklearn.model_selection import train_test_split\n",
    "# The target variable is the last column of our dataset\n",
    "X = boston.values[:,:-1]\n",
    "y = boston.values[:,1].reshape(-1, 1)\n",
    "# Now lets split the 3 results\n",
    "X_train, X_tv, y_train, y_tv = train_test_split(X, y, test_size=0.3, random_state=0)\n",
    "X_test, X_val, y_test, y_val = train_test_split(X_tv, y_tv, test_size=0.5, random_state=0)"
   ]
  },
  {
   "cell_type": "markdown",
   "id": "1656b9eb-c272-43fb-8fe5-c095cf8461ad",
   "metadata": {},
   "source": [
    "Now you will write the function that computes the forward pass. \n",
    "* I provide here a structure that you can follow for your function, but again, feel free to modify it as you see fit.\n",
    "* Use the sigmoid function as the activation of the hidden layer.\n",
    "* Don't forget about the biases!\n",
    "* *It is up to you to think what should be the activation for the output layer.*"
   ]
  },
  {
   "cell_type": "code",
   "execution_count": 4,
   "id": "c582d2ac-e33c-47a7-8e24-fecadf38c53a",
   "metadata": {},
   "outputs": [],
   "source": [
    "def sigmoid_activation(z:np.ndarray) -> np.ndarray:\n",
    "    # your code goes here\n",
    "    return 1 / (1 + np.exp(-z))"
   ]
  },
  {
   "cell_type": "code",
   "execution_count": 5,
   "id": "30eb784e-a9c5-4a70-afcd-bcaf356aa576",
   "metadata": {},
   "outputs": [],
   "source": [
    "def two_layer_perceptron(X:np.ndarray, activation, dim_input:int, dim_hidden:int, dim_output:int):\n",
    "    \"\"\"\n",
    "    Implements the forward pass of a two-layer fully connected perceptron.\n",
    "    \n",
    "    Parameters\n",
    "    ----------\n",
    "    X : a 2-dimensional array\n",
    "        the input data\n",
    "    activation : function\n",
    "        the activation function to be used for the hidden layer\n",
    "    dim_input : int\n",
    "        the dimensionality of the input layer\n",
    "    dim_hidden : int\n",
    "        the dimensionality of the hidden layer\n",
    "    dim_output : int\n",
    "        the dimensionality of the output layer\n",
    "    Returns\n",
    "    -------\n",
    "    y_pred : float\n",
    "        the output of the computation of the forward pass of the network\n",
    "    \"\"\"\n",
    "    # your code goes here\n",
    "    # Initializing weights and biases with random values\n",
    "    # First we initialize the input to hidden layers of weights and biases\n",
    "    W_input = np.random.normal(size=(dim_input, dim_hidden))\n",
    "    b_input = np.random.normal(size=(dim_hidden, 1))\n",
    "    # Then the hidden to output layers of weights and biases\n",
    "    W_output = np.random.normal(size=(dim_hidden, dim_output))\n",
    "    b_output = np.random.normal(size=(dim_output, 1))\n",
    "    \n",
    "    # So we calculate the hidden layer and apply the activation function\n",
    "    hidden_layer_i = X @ W_input + b_input.T\n",
    "    hidden_layer_o = activation(hidden_layer_i)\n",
    "\n",
    "    # Finally we calculate the output layer and apply another activation function\n",
    "    output_layer = hidden_layer_o @ W_output + b_output.T\n",
    "    # The chossen funciont was power to 2 cause in our predictions all the values are\n",
    "    # Above 0 and below 100, then, to get a better aproximation we can estimate our\n",
    "    # Values to the power of 2\n",
    "    y_pred = np.power(output_layer, 2)\n",
    "\n",
    "    return y_pred"
   ]
  },
  {
   "cell_type": "markdown",
   "id": "f18eb5a0-15c8-4c98-8481-5ca52a27da2d",
   "metadata": {},
   "source": [
    "Calculate the RMSE of the forward pass. "
   ]
  },
  {
   "cell_type": "code",
   "execution_count": 6,
   "id": "dcc26211-91c1-47f9-8779-eb723b0c209e",
   "metadata": {},
   "outputs": [
    {
     "name": "stdout",
     "output_type": "stream",
     "text": [
      "RMSE de treino: 24.43998089699049\n",
      "RMSE de teste: 21.415008469477197\n",
      "RMSE de validação: 25.951034705141204\n"
     ]
    },
    {
     "name": "stderr",
     "output_type": "stream",
     "text": [
      "C:\\Users\\silla\\AppData\\Local\\Temp\\ipykernel_15392\\161315372.py:3: RuntimeWarning: overflow encountered in exp\n",
      "  return 1 / (1 + np.exp(-z))\n"
     ]
    }
   ],
   "source": [
    "# your code goes here\n",
    "def rmse(y_pred:np.ndarray, y_real:np.ndarray) -> float:\n",
    "    return np.sqrt(np.mean(np.power(y_pred - y_real, 2)))\n",
    "\n",
    "# Let's set our hidden layer dim and calculate our predictions to every splited\n",
    "hidden_layer_dim = 7\n",
    "y_train_pred = two_layer_perceptron(X_train, sigmoid_activation, X.shape[1], hidden_layer_dim, 1)\n",
    "train_rmse = rmse(y_train_pred, y_train)\n",
    "\n",
    "y_test_pred = two_layer_perceptron(X_test, sigmoid_activation, X.shape[1], hidden_layer_dim, 1)\n",
    "test_rmse = rmse(y_test_pred, y_test)\n",
    "\n",
    "y_val_pred = two_layer_perceptron(X_val, sigmoid_activation, X.shape[1], hidden_layer_dim, 1)\n",
    "val_rmse =rmse(y_val_pred, y_val)\n",
    "# After we get our rmse let's show there\n",
    "print(\"RMSE de treino:\", train_rmse)\n",
    "print(\"RMSE de teste:\", test_rmse)\n",
    "print(\"RMSE de validação:\", val_rmse)"
   ]
  },
  {
   "cell_type": "markdown",
   "id": "fa6650ab-79e5-4636-a4c9-84b977c48541",
   "metadata": {},
   "source": [
    "## Part II \n",
    "\n",
    "For this exercise you will write a function that calculates the forward pass of a 2-layer perceptron that predicts the exact digit from a hand-written image, using the MNIST dataset. "
   ]
  },
  {
   "cell_type": "code",
   "execution_count": 7,
   "id": "3bfe2473-16e8-4dce-9e5b-7d5ce1154200",
   "metadata": {
    "tags": []
   },
   "outputs": [],
   "source": [
    "from sklearn.datasets import load_digits"
   ]
  },
  {
   "cell_type": "code",
   "execution_count": 8,
   "id": "4f8f04ee-c8e6-4531-9ad4-b0e530e1f92d",
   "metadata": {
    "tags": []
   },
   "outputs": [],
   "source": [
    "digits = load_digits()"
   ]
  },
  {
   "cell_type": "code",
   "execution_count": 9,
   "id": "6c49e3cd-e16a-4847-ac73-b9628f3f159a",
   "metadata": {
    "tags": []
   },
   "outputs": [],
   "source": [
    "X = digits.data\n",
    "y = digits.target"
   ]
  },
  {
   "cell_type": "code",
   "execution_count": 10,
   "id": "172b3419-d470-433f-87f9-4df67e4761e8",
   "metadata": {
    "tags": []
   },
   "outputs": [
    {
     "data": {
      "text/plain": [
       "(1797, 64)"
      ]
     },
     "execution_count": 10,
     "metadata": {},
     "output_type": "execute_result"
    }
   ],
   "source": [
    "X.shape"
   ]
  },
  {
   "cell_type": "markdown",
   "id": "ebdaf177-1cda-4c04-8d12-090678310602",
   "metadata": {},
   "source": [
    "Again, you will split the data into training, validation and testing."
   ]
  },
  {
   "cell_type": "code",
   "execution_count": 11,
   "id": "8519363c-f7e0-43a8-ba4e-a33ab9d5b96e",
   "metadata": {},
   "outputs": [],
   "source": [
    "# your code goes here:\n",
    "# The same as the previsous training, validation and testing split\n",
    "X_train, X_tv, y_train, y_tv = train_test_split(X, y, test_size=0.3, random_state=0)\n",
    "X_test, X_val, y_test, y_val = train_test_split(X_tv, y_tv, test_size=0.5, random_state=0)"
   ]
  },
  {
   "cell_type": "markdown",
   "id": "2bc4d63e-30c3-4f7d-8f6f-b12496886b5e",
   "metadata": {},
   "source": [
    "Write a function that calculates the forward pass for this multi-class classification problem.\n",
    "* You will use the sigmoid activation function for the hidden layer.\n",
    "* For the output layer you will have to write the softmax activation function (you can check the slides)\n",
    "* __Note:__ you can easily re-use the function that you coded for Part I if you do a simple modification and also include an input argument for the activation of the output layer."
   ]
  },
  {
   "cell_type": "code",
   "execution_count": 12,
   "id": "26d68da7-1fa1-4074-b8fa-29ff1c21d8a5",
   "metadata": {},
   "outputs": [],
   "source": [
    "def softmax_activation(z:np.ndarray) -> np.ndarray:\n",
    "    # your code goes here:\n",
    "    exp_z = np.exp(z)\n",
    "    total = np.sum(exp_z)\n",
    "    return exp_z/total"
   ]
  },
  {
   "cell_type": "code",
   "execution_count": 13,
   "id": "c28da05c-908f-4b46-87f9-e94718ca52b1",
   "metadata": {},
   "outputs": [],
   "source": [
    "# your code goes here: \n",
    "def two_layer_perceptron(X:np.ndarray, activation_1, activation_2, dim_input:int, dim_hidden:int, dim_output:int):\n",
    "    \"\"\"\n",
    "    Implements the forward pass of a two-layer fully connected perceptron.\n",
    "    \n",
    "    Parameters\n",
    "    ----------\n",
    "    X : a 2-dimensional array\n",
    "        the input data\n",
    "    activation_1 : function\n",
    "        the activation function to be used for the hidden layer\n",
    "    activation_2 : function\n",
    "        the activation function to be used for the output layer\n",
    "    dim_input : int\n",
    "        the dimensionality of the input layer\n",
    "    dim_hidden : int\n",
    "        the dimensionality of the hidden layer\n",
    "    dim_output : int\n",
    "        the dimensionality of the output layer\n",
    "    Returns\n",
    "    -------\n",
    "    y_pred : float\n",
    "        the output of the computation of the forward pass of the network\n",
    "    \"\"\"\n",
    "    # your code goes here\n",
    "    # your code goes here\n",
    "    # Initializing weights and biases with random values\n",
    "    # First we initialize the input to hidden layers of weights and biases\n",
    "    W_input = np.random.normal(size=(dim_input, dim_hidden))\n",
    "    b_input = np.random.normal(size=(dim_hidden, 1))\n",
    "    # Then the hidden to output layers of weights and biases\n",
    "    W_output = np.random.normal(size=(dim_hidden, dim_output))\n",
    "    b_output = np.random.normal(size=(dim_output, 1))\n",
    "    \n",
    "    # So we calculate the hidden layer and apply the first activation function\n",
    "    hidden_layer_i = X @ W_input + b_input.T\n",
    "    hidden_layer_o = activation_1(hidden_layer_i)\n",
    "\n",
    "    # Finally we calculate the output layer and the second activation function\n",
    "    output_layer = hidden_layer_o @ W_output + b_output.T\n",
    "    y_pred = activation_2(output_layer)\n",
    "\n",
    "    return y_pred"
   ]
  },
  {
   "cell_type": "markdown",
   "id": "db6b264d-1b1d-433a-98d3-eaf33b685a67",
   "metadata": {},
   "source": [
    "Lastly, calculate the error of this forward pass using the cross-entropy loss."
   ]
  },
  {
   "cell_type": "code",
   "execution_count": 14,
   "id": "015f701c-f816-4208-8cdc-4ba32f03f08d",
   "metadata": {},
   "outputs": [
    {
     "name": "stdout",
     "output_type": "stream",
     "text": [
      "RMSE de treino: 5.258337423234244\n",
      "RMSE de teste: 5.531233309643062\n",
      "RMSE de validação: 5.423468698988252\n"
     ]
    }
   ],
   "source": [
    "# your code goes here:\n",
    "# Then we do the same as in the previsous predictions rmse\n",
    "hidden_layer_dim = 15\n",
    "y_train_pred = two_layer_perceptron(X_train, sigmoid_activation, softmax_activation, X.shape[1], hidden_layer_dim, 1)\n",
    "train_rmse = rmse(y_train_pred, y_train)\n",
    "\n",
    "y_test_pred = two_layer_perceptron(X_test, sigmoid_activation, softmax_activation, X.shape[1], hidden_layer_dim, 1)\n",
    "test_rmse = rmse(y_test_pred, y_test)\n",
    "\n",
    "y_val_pred = two_layer_perceptron(X_val, sigmoid_activation, softmax_activation, X.shape[1], hidden_layer_dim, 1)\n",
    "val_rmse =rmse(y_val_pred, y_val)\n",
    "\n",
    "print(\"RMSE de treino:\", train_rmse)\n",
    "print(\"RMSE de teste:\", test_rmse)\n",
    "print(\"RMSE de validação:\", val_rmse)"
   ]
  }
 ],
 "metadata": {
  "kernelspec": {
   "display_name": "Python 3 (ipykernel)",
   "language": "python",
   "name": "python3"
  },
  "language_info": {
   "codemirror_mode": {
    "name": "ipython",
    "version": 3
   },
   "file_extension": ".py",
   "mimetype": "text/x-python",
   "name": "python",
   "nbconvert_exporter": "python",
   "pygments_lexer": "ipython3",
   "version": "3.12.3"
  }
 },
 "nbformat": 4,
 "nbformat_minor": 5
}
