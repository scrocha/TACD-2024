{
 "cells": [
  {
   "cell_type": "code",
   "execution_count": 2,
   "id": "bffbb633-ac08-4b48-b7ed-11c8cb4ac1f8",
   "metadata": {
    "tags": []
   },
   "outputs": [
    {
     "data": {
      "text/plain": [
       "292701"
      ]
     },
     "execution_count": 2,
     "metadata": {},
     "output_type": "execute_result"
    }
   ],
   "source": [
    "# Choose a random number of 6 digits. Make sure that you keep a copy of this number and avoid trivial numbers, such as 000000 or 123456 -- thank you!\n",
    "292701"
   ]
  },
  {
   "cell_type": "markdown",
   "id": "62d061ab-d29d-4d0d-9850-5a7017141f01",
   "metadata": {
    "tags": []
   },
   "source": [
    "# Assignment 1 - Visualisation and Performance Evaluation\n",
    "\n",
    "First assessed coursework for the course: Técnicas e Algoritmos em Ciência de Dados \n",
    "\n",
    "## General guidelines:\n",
    "\n",
    "* This work must be entirely original. You are allowed to research documentation for specific libraries, but copying solutions from the internet or your classmates is strictly prohibited. Any such actions will result in a deduction of points for the coursework.\n",
    "* Please enter your code in the designated areas of the notebook. You can create additional code cells to experiment with, but __make sure to place your final solutions where they are requested in the notebook.__\n",
    "* The notebook already imports all the necessary libraries for this assignment at the beginning. Although you are allowed to import other libraries, it is not necessary.\n",
    "* Before submitting your work, make sure to rename the file to your random number that you created above (for example, 289479.ipynb).\n",
    "\n",
    "## Notebook Overview:\n",
    "\n",
    "1. [Data Loading and Visualisation](#Data-Loading-and-Visualisation) (20%)\n",
    "2. [Binary Classification Building a PR curve](#Binary-Classification-Building-a-PR-curve) (50%)\n",
    "3. [Regression RMSE](#Regression-RMSE) (30%)"
   ]
  },
  {
   "cell_type": "code",
   "execution_count": 3,
   "id": "8b115335-4181-4b5a-83c0-8a910ca706c6",
   "metadata": {
    "tags": []
   },
   "outputs": [],
   "source": [
    "%matplotlib inline\n",
    "import pickle as pkl\n",
    "import pandas as pd\n",
    "import numpy as np\n",
    "import matplotlib.pyplot as plt\n",
    "import seaborn as sns\n",
    "from sklearn.metrics import average_precision_score"
   ]
  },
  {
   "cell_type": "markdown",
   "id": "5703847f-2d20-4631-93a2-bca3ced9f84a",
   "metadata": {},
   "source": [
    "## Data Loading and Visualisation\n",
    "\n",
    "* Load the Iris dataset that you downloaded from the following link: https://www.kaggle.com/datasets/uciml/iris/download?datasetVersionNumber=2\n",
    "* __Important:__ to ensure proper execution of your code, you need to either place the downloaded .csv file in the same working directory as the program or specify the correct path to the file.\n",
    "* Load the data into a pandas `DataFrame`\n",
    "* For each feature in the dataset, create a figure with two subplots one on top of the other.\n",
    "    * In the first subplot, plot a vertical boxplot of the values of the feature for all classes combined. \n",
    "    * In the second subplot, plot a vertical boxplot of the values of the feature for each class separately. Use the column “Species” as the class identifier, and a different color for each class. \n",
    "    \n",
    "\n",
    "* __Note:__ the data contains a column \"Id\" that you can ignore. "
   ]
  },
  {
   "cell_type": "code",
   "execution_count": 4,
   "id": "169118e0-0fb5-432e-8c0e-5a2147bccb0b",
   "metadata": {
    "tags": []
   },
   "outputs": [
    {
     "data": {
      "text/html": [
       "<div>\n",
       "<style scoped>\n",
       "    .dataframe tbody tr th:only-of-type {\n",
       "        vertical-align: middle;\n",
       "    }\n",
       "\n",
       "    .dataframe tbody tr th {\n",
       "        vertical-align: top;\n",
       "    }\n",
       "\n",
       "    .dataframe thead th {\n",
       "        text-align: right;\n",
       "    }\n",
       "</style>\n",
       "<table border=\"1\" class=\"dataframe\">\n",
       "  <thead>\n",
       "    <tr style=\"text-align: right;\">\n",
       "      <th></th>\n",
       "      <th>Id</th>\n",
       "      <th>SepalLengthCm</th>\n",
       "      <th>SepalWidthCm</th>\n",
       "      <th>PetalLengthCm</th>\n",
       "      <th>PetalWidthCm</th>\n",
       "      <th>Species</th>\n",
       "    </tr>\n",
       "  </thead>\n",
       "  <tbody>\n",
       "    <tr>\n",
       "      <th>0</th>\n",
       "      <td>1</td>\n",
       "      <td>5.1</td>\n",
       "      <td>3.5</td>\n",
       "      <td>1.4</td>\n",
       "      <td>0.2</td>\n",
       "      <td>Iris-setosa</td>\n",
       "    </tr>\n",
       "    <tr>\n",
       "      <th>1</th>\n",
       "      <td>2</td>\n",
       "      <td>4.9</td>\n",
       "      <td>3.0</td>\n",
       "      <td>1.4</td>\n",
       "      <td>0.2</td>\n",
       "      <td>Iris-setosa</td>\n",
       "    </tr>\n",
       "    <tr>\n",
       "      <th>2</th>\n",
       "      <td>3</td>\n",
       "      <td>4.7</td>\n",
       "      <td>3.2</td>\n",
       "      <td>1.3</td>\n",
       "      <td>0.2</td>\n",
       "      <td>Iris-setosa</td>\n",
       "    </tr>\n",
       "    <tr>\n",
       "      <th>3</th>\n",
       "      <td>4</td>\n",
       "      <td>4.6</td>\n",
       "      <td>3.1</td>\n",
       "      <td>1.5</td>\n",
       "      <td>0.2</td>\n",
       "      <td>Iris-setosa</td>\n",
       "    </tr>\n",
       "    <tr>\n",
       "      <th>4</th>\n",
       "      <td>5</td>\n",
       "      <td>5.0</td>\n",
       "      <td>3.6</td>\n",
       "      <td>1.4</td>\n",
       "      <td>0.2</td>\n",
       "      <td>Iris-setosa</td>\n",
       "    </tr>\n",
       "  </tbody>\n",
       "</table>\n",
       "</div>"
      ],
      "text/plain": [
       "   Id  SepalLengthCm  SepalWidthCm  PetalLengthCm  PetalWidthCm      Species\n",
       "0   1            5.1           3.5            1.4           0.2  Iris-setosa\n",
       "1   2            4.9           3.0            1.4           0.2  Iris-setosa\n",
       "2   3            4.7           3.2            1.3           0.2  Iris-setosa\n",
       "3   4            4.6           3.1            1.5           0.2  Iris-setosa\n",
       "4   5            5.0           3.6            1.4           0.2  Iris-setosa"
      ]
     },
     "execution_count": 4,
     "metadata": {},
     "output_type": "execute_result"
    }
   ],
   "source": [
    "# Load the data\n",
    "# your code goes here\n",
    "data_path = \"./dados/Iris.csv\"\n",
    "iris_data = pd.read_csv(data_path)\n",
    "iris_data.head()"
   ]
  },
  {
   "cell_type": "code",
   "execution_count": 5,
   "id": "176b81ba-ab7a-4cc3-af93-a88843d52cec",
   "metadata": {
    "tags": []
   },
   "outputs": [
    {
     "data": {
      "image/png": "[encoded data removed]",
      "text/plain": [
       "<Figure size 1800x800 with 8 Axes>"
      ]
     },
     "metadata": {},
     "output_type": "display_data"
    }
   ],
   "source": [
    "# The code for your plots go here\n",
    "features = list(iris_data.columns[1:-1])\n",
    "cores = [\"red\", \"green\", \"blue\"]\n",
    "\n",
    "fig, axs = plt.subplots(2, 4, figsize=(18, 8))\n",
    "\n",
    "for j in range(len(features)):\n",
    "    feature = features[j]\n",
    "\n",
    "    sns.boxplot(data=iris_data, y=feature, ax=axs[0,j])\n",
    "    sns.boxplot(data=iris_data, y=feature, x=\"Species\", ax=axs[1,j],\n",
    "                palette=cores, hue=\"Species\")"
   ]
  },
  {
   "cell_type": "markdown",
   "id": "fb56e199-49fa-4891-93cb-0e6948e82c96",
   "metadata": {},
   "source": [
    "## Binary Classification Building a PR curve\n",
    "\n",
    "The goal of this exercise is to evaluate the performance of various pre-trained classification models in predicting whether a mushroom is edible or poisonous. To achieve this, we will generate PR curves for each algorithm and determine the area under the curve. Using these metrics, we will decide which classifier is best suited for the task.\n",
    "\n",
    "Follow the instructions in the cells below to complete this task."
   ]
  },
  {
   "cell_type": "code",
   "execution_count": 6,
   "id": "36cbe8cc-cfd0-4efa-9b81-a9b92abda89b",
   "metadata": {
    "tags": []
   },
   "outputs": [],
   "source": [
    "# Loading the pre-trained classifiers and testing data\n",
    "classifiers = pkl.load(open('classifiers_dict.p','rb'))\n",
    "mushroom_test_data = pkl.load(open('mushroom_test_data.p','rb'))"
   ]
  },
  {
   "cell_type": "markdown",
   "id": "b2b42bb2-c7a5-4c1b-8458-0c1aeee1f021",
   "metadata": {},
   "source": [
    "The loaded variables are dictionaries. One contains the pre-trained classifiers and the other one the testing data. \n",
    "\n",
    "Let's inspect the contents of the classifiers_dict"
   ]
  },
  {
   "cell_type": "code",
   "execution_count": 3,
   "id": "43e9394d-67f9-488f-ae23-178c7a180ac9",
   "metadata": {
    "tags": []
   },
   "outputs": [
    {
     "data": {
      "text/plain": [
       "{'Categorical NB': CategoricalNB(),\n",
       " 'Logistic Regression': LogisticRegression(max_iter=600),\n",
       " 'SVM': SVC(probability=True)}"
      ]
     },
     "execution_count": 3,
     "metadata": {},
     "output_type": "execute_result"
    }
   ],
   "source": [
    "classifiers"
   ]
  },
  {
   "cell_type": "markdown",
   "id": "d0875390-f7cf-4051-b440-ae7af4824345",
   "metadata": {},
   "source": [
    "* We can see that the key is the name of the classifier and the value contains the pre-trained instance of each classifier. \n",
    "* In the next code cell there's code to extract the classifiers into separate variables."
   ]
  },
  {
   "cell_type": "code",
   "execution_count": 4,
   "id": "32a84e11-183c-47a9-b290-256e2657c6fa",
   "metadata": {
    "tags": []
   },
   "outputs": [],
   "source": [
    "cnb_clf = classifiers['Categorical NB']\n",
    "lr_clf = classifiers['Logistic Regression']\n",
    "svm_clf = classifiers['SVM']"
   ]
  },
  {
   "cell_type": "markdown",
   "id": "2fe7c49c-bed4-449d-b336-efd709bdf406",
   "metadata": {},
   "source": [
    "Next we'll extract the testing data from the mushroom_test_data dictionary we just loaded.\n",
    "\n",
    "First, let's inspect the keys of the dictionary (we don't look at the values because the data is rather large and we don't want it to take up the whole screen)."
   ]
  },
  {
   "cell_type": "code",
   "execution_count": 5,
   "id": "2f8d94b1-cca2-4e19-909b-81fa9534723e",
   "metadata": {
    "tags": []
   },
   "outputs": [
    {
     "data": {
      "text/plain": [
       "dict_keys(['X_test', 'y_test'])"
      ]
     },
     "execution_count": 5,
     "metadata": {},
     "output_type": "execute_result"
    }
   ],
   "source": [
    "mushroom_test_data.keys()"
   ]
  },
  {
   "cell_type": "markdown",
   "id": "2679d9e4-def6-418f-9b74-28de71c9028b",
   "metadata": {},
   "source": [
    "* X_test contains the data points with their features that will serve as the input to our trained models.\n",
    "* y_test contains the true labels for the testing set, which we'll use to evaluate our predictions."
   ]
  },
  {
   "cell_type": "code",
   "execution_count": 6,
   "id": "64161d39-5f20-4e81-a07b-706b4c159449",
   "metadata": {
    "tags": []
   },
   "outputs": [],
   "source": [
    "X_test = mushroom_test_data['X_test']\n",
    "y_test = mushroom_test_data['y_test']"
   ]
  },
  {
   "cell_type": "markdown",
   "id": "a98101b1-b15e-40de-8311-e931fe938e48",
   "metadata": {},
   "source": [
    "As we can see below, X_test contains the 21 features that were used to train the different classifiers. \n",
    "* __Note__ that the index is shuffled because this is a random subset of the original data that we are using as our testing set."
   ]
  },
  {
   "cell_type": "code",
   "execution_count": 7,
   "id": "b6265975-745d-47b4-84d5-f94b76320c75",
   "metadata": {
    "tags": []
   },
   "outputs": [
    {
     "data": {
      "text/html": [
       "<div>\n",
       "<style scoped>\n",
       "    .dataframe tbody tr th:only-of-type {\n",
       "        vertical-align: middle;\n",
       "    }\n",
       "\n",
       "    .dataframe tbody tr th {\n",
       "        vertical-align: top;\n",
       "    }\n",
       "\n",
       "    .dataframe thead th {\n",
       "        text-align: right;\n",
       "    }\n",
       "</style>\n",
       "<table border=\"1\" class=\"dataframe\">\n",
       "  <thead>\n",
       "    <tr style=\"text-align: right;\">\n",
       "      <th></th>\n",
       "      <th>cap-shape</th>\n",
       "      <th>cap-surface</th>\n",
       "      <th>cap-color</th>\n",
       "      <th>bruises</th>\n",
       "      <th>odor</th>\n",
       "      <th>gill-attachment</th>\n",
       "      <th>gill-spacing</th>\n",
       "      <th>gill-size</th>\n",
       "      <th>gill-color</th>\n",
       "      <th>stalk-shape</th>\n",
       "      <th>...</th>\n",
       "      <th>stalk-surface-above-ring</th>\n",
       "      <th>stalk-surface-below-ring</th>\n",
       "      <th>stalk-color-above-ring</th>\n",
       "      <th>stalk-color-below-ring</th>\n",
       "      <th>veil-color</th>\n",
       "      <th>ring-number</th>\n",
       "      <th>ring-type</th>\n",
       "      <th>spore-print-color</th>\n",
       "      <th>population</th>\n",
       "      <th>habitat</th>\n",
       "    </tr>\n",
       "  </thead>\n",
       "  <tbody>\n",
       "    <tr>\n",
       "      <th>700</th>\n",
       "      <td>5</td>\n",
       "      <td>2</td>\n",
       "      <td>4</td>\n",
       "      <td>1</td>\n",
       "      <td>6</td>\n",
       "      <td>1</td>\n",
       "      <td>0</td>\n",
       "      <td>1</td>\n",
       "      <td>10</td>\n",
       "      <td>0</td>\n",
       "      <td>...</td>\n",
       "      <td>2</td>\n",
       "      <td>2</td>\n",
       "      <td>7</td>\n",
       "      <td>7</td>\n",
       "      <td>2</td>\n",
       "      <td>1</td>\n",
       "      <td>4</td>\n",
       "      <td>2</td>\n",
       "      <td>3</td>\n",
       "      <td>1</td>\n",
       "    </tr>\n",
       "    <tr>\n",
       "      <th>6743</th>\n",
       "      <td>2</td>\n",
       "      <td>2</td>\n",
       "      <td>2</td>\n",
       "      <td>0</td>\n",
       "      <td>8</td>\n",
       "      <td>1</td>\n",
       "      <td>0</td>\n",
       "      <td>1</td>\n",
       "      <td>0</td>\n",
       "      <td>1</td>\n",
       "      <td>...</td>\n",
       "      <td>1</td>\n",
       "      <td>2</td>\n",
       "      <td>6</td>\n",
       "      <td>6</td>\n",
       "      <td>2</td>\n",
       "      <td>1</td>\n",
       "      <td>0</td>\n",
       "      <td>7</td>\n",
       "      <td>4</td>\n",
       "      <td>0</td>\n",
       "    </tr>\n",
       "    <tr>\n",
       "      <th>1571</th>\n",
       "      <td>5</td>\n",
       "      <td>0</td>\n",
       "      <td>8</td>\n",
       "      <td>0</td>\n",
       "      <td>5</td>\n",
       "      <td>1</td>\n",
       "      <td>1</td>\n",
       "      <td>0</td>\n",
       "      <td>4</td>\n",
       "      <td>1</td>\n",
       "      <td>...</td>\n",
       "      <td>2</td>\n",
       "      <td>0</td>\n",
       "      <td>7</td>\n",
       "      <td>7</td>\n",
       "      <td>2</td>\n",
       "      <td>1</td>\n",
       "      <td>0</td>\n",
       "      <td>2</td>\n",
       "      <td>0</td>\n",
       "      <td>1</td>\n",
       "    </tr>\n",
       "    <tr>\n",
       "      <th>5949</th>\n",
       "      <td>5</td>\n",
       "      <td>3</td>\n",
       "      <td>4</td>\n",
       "      <td>0</td>\n",
       "      <td>5</td>\n",
       "      <td>1</td>\n",
       "      <td>1</td>\n",
       "      <td>1</td>\n",
       "      <td>10</td>\n",
       "      <td>0</td>\n",
       "      <td>...</td>\n",
       "      <td>0</td>\n",
       "      <td>2</td>\n",
       "      <td>7</td>\n",
       "      <td>4</td>\n",
       "      <td>2</td>\n",
       "      <td>1</td>\n",
       "      <td>0</td>\n",
       "      <td>7</td>\n",
       "      <td>4</td>\n",
       "      <td>2</td>\n",
       "    </tr>\n",
       "    <tr>\n",
       "      <th>3307</th>\n",
       "      <td>2</td>\n",
       "      <td>3</td>\n",
       "      <td>4</td>\n",
       "      <td>1</td>\n",
       "      <td>5</td>\n",
       "      <td>1</td>\n",
       "      <td>0</td>\n",
       "      <td>0</td>\n",
       "      <td>5</td>\n",
       "      <td>1</td>\n",
       "      <td>...</td>\n",
       "      <td>2</td>\n",
       "      <td>2</td>\n",
       "      <td>7</td>\n",
       "      <td>6</td>\n",
       "      <td>2</td>\n",
       "      <td>1</td>\n",
       "      <td>4</td>\n",
       "      <td>3</td>\n",
       "      <td>5</td>\n",
       "      <td>0</td>\n",
       "    </tr>\n",
       "  </tbody>\n",
       "</table>\n",
       "<p>5 rows × 21 columns</p>\n",
       "</div>"
      ],
      "text/plain": [
       "      cap-shape  cap-surface  cap-color  bruises  odor  gill-attachment  \\\n",
       "700           5            2          4        1     6                1   \n",
       "6743          2            2          2        0     8                1   \n",
       "1571          5            0          8        0     5                1   \n",
       "5949          5            3          4        0     5                1   \n",
       "3307          2            3          4        1     5                1   \n",
       "\n",
       "      gill-spacing  gill-size  gill-color  stalk-shape  ...  \\\n",
       "700              0          1          10            0  ...   \n",
       "6743             0          1           0            1  ...   \n",
       "1571             1          0           4            1  ...   \n",
       "5949             1          1          10            0  ...   \n",
       "3307             0          0           5            1  ...   \n",
       "\n",
       "      stalk-surface-above-ring  stalk-surface-below-ring  \\\n",
       "700                          2                         2   \n",
       "6743                         1                         2   \n",
       "1571                         2                         0   \n",
       "5949                         0                         2   \n",
       "3307                         2                         2   \n",
       "\n",
       "      stalk-color-above-ring  stalk-color-below-ring  veil-color  ring-number  \\\n",
       "700                        7                       7           2            1   \n",
       "6743                       6                       6           2            1   \n",
       "1571                       7                       7           2            1   \n",
       "5949                       7                       4           2            1   \n",
       "3307                       7                       6           2            1   \n",
       "\n",
       "      ring-type  spore-print-color  population  habitat  \n",
       "700           4                  2           3        1  \n",
       "6743          0                  7           4        0  \n",
       "1571          0                  2           0        1  \n",
       "5949          0                  7           4        2  \n",
       "3307          4                  3           5        0  \n",
       "\n",
       "[5 rows x 21 columns]"
      ]
     },
     "execution_count": 7,
     "metadata": {},
     "output_type": "execute_result"
    }
   ],
   "source": [
    "X_test.head()"
   ]
  },
  {
   "cell_type": "markdown",
   "id": "aca89f34-aa99-47a5-b8bb-6b01796dd0cd",
   "metadata": {},
   "source": [
    "During class we looked at the case where the output of the classifier is a number between 0 and 1. This is the case for the classifiers we will use here. For these classifiers this output can be interpreted as the probabilities.\n",
    "\n",
    "We are now going to obtain the predicted probabilities from our different classifiers\n",
    "* To do this we are using the method `predict_proba()`\n",
    "* This is a method specific to each classifier and it requires as input argument the datapoints of our testing set with their features (`X_test`)."
   ]
  },
  {
   "cell_type": "code",
   "execution_count": 8,
   "id": "374e9def-30a8-4d4f-9668-36f055d02d70",
   "metadata": {
    "tags": []
   },
   "outputs": [],
   "source": [
    "y_proba_cnb = cnb_clf.predict_proba(X_test)\n",
    "y_proba_svm = svm_clf.predict_proba(X_test)\n",
    "y_proba_lr = lr_clf.predict_proba(X_test)"
   ]
  },
  {
   "cell_type": "markdown",
   "id": "1d3a60e1-a487-44d8-bf55-97b9b64cd327",
   "metadata": {},
   "source": [
    "Let's inspect one of the variables we just created. \n",
    "\n",
    "We notice that it contains two values per row that sum up to 1. The first value is the probability of class 0 and the second value is the probability of class 1.\n",
    "\n",
    "__For this exercise, you will use only the second column (probability of class 1) as was explained in class.__"
   ]
  },
  {
   "cell_type": "code",
   "execution_count": 9,
   "id": "842440db-15d7-4ed4-a021-87c94e230673",
   "metadata": {
    "tags": []
   },
   "outputs": [
    {
     "data": {
      "text/plain": [
       "array([[0.54287323, 0.45712677],\n",
       "       [0.29988335, 0.70011665],\n",
       "       [0.67251778, 0.32748222],\n",
       "       ...,\n",
       "       [0.67880951, 0.32119049],\n",
       "       [0.69545763, 0.30454237],\n",
       "       [0.64476354, 0.35523646]])"
      ]
     },
     "execution_count": 9,
     "metadata": {},
     "output_type": "execute_result"
    }
   ],
   "source": [
    "y_proba_cnb"
   ]
  },
  {
   "cell_type": "markdown",
   "id": "98999189-e7eb-4d93-b0c5-e0a3e23525d2",
   "metadata": {},
   "source": [
    "## Calculating the precision and recall\n",
    "Now that we have our predicted values and the true labels, we are ready to generate the PR curve"
   ]
  },
  {
   "cell_type": "markdown",
   "id": "38365f9b-0019-4a5b-b1ac-eca2f620d2f2",
   "metadata": {},
   "source": [
    "Feel free to define the function(s) in a way that you find most comfortable. The goal of these functions is to generate the precision and recall at different thresholds for all classifiers.\n",
    "\n",
    "The cell below contains a suggestion on how you can structure the function -- you can also do it differently if you prefer."
   ]
  },
  {
   "cell_type": "code",
   "execution_count": null,
   "id": "a0faf1fe-4ef1-4251-8e16-68618303db87",
   "metadata": {},
   "outputs": [],
   "source": [
    "# The following is just example code, it is not meant to be executed.\n",
    "def get_precision_recall(predicted_values, true_labels, threshold):\n",
    "    # body of the function\n",
    "    return precision, recall\n",
    "# this function would calculate the confusion matrix and then the precision and recall to return it as two separate values. \n",
    "\n",
    "# to then use the output values of this function you would do something like:\n",
    "precision, recall = get_precision_recall(y_proba_lr, y_test, threshold)"
   ]
  },
  {
   "cell_type": "code",
   "execution_count": null,
   "id": "66e23d9f-2d5b-4b79-ac46-aa1d54f7d358",
   "metadata": {
    "tags": []
   },
   "outputs": [],
   "source": [
    "# Your code goes here!!\n",
    "\n"
   ]
  },
  {
   "cell_type": "markdown",
   "id": "14d65ae0-0b2c-4070-b561-3ba311827537",
   "metadata": {},
   "source": [
    "## Plotting the PR curve\n",
    "Now let's use the calculated precisions and recalls to plot the PR curves for the different classifiers.\n",
    "\n",
    "The template below provides the typical structure of a superimposed plot, but you're welcome to modify it to fit your needs."
   ]
  },
  {
   "cell_type": "code",
   "execution_count": null,
   "id": "db1f2e50-55fa-4b69-a3a3-d22ab9f4189a",
   "metadata": {},
   "outputs": [],
   "source": [
    "# Here you must complete the calls to plt.plot() with the right input arguments\n",
    "# Following that you will need to generate the correct plot properties below\n",
    "fig = plt.figure(figsize=(8,6))\n",
    "# PR Curve for the Categorical Naive Bayes\n",
    "plt.plot()\n",
    "# PR Curve for Logistic Regression\n",
    "plt.plot()\n",
    "# PR Curve for SVM\n",
    "plt.plot()\n",
    "\n",
    "\n",
    "# Plot properties\n",
    "# Title\n",
    "\n",
    "# X-Ticks and X-label \n",
    "\n",
    "# Y-Ticks and Y-label\n",
    "\n",
    "# Legend\n",
    "\n",
    "plt.show()"
   ]
  },
  {
   "cell_type": "markdown",
   "id": "6450849d-ef47-4d28-8c3c-5234e4f0db28",
   "metadata": {},
   "source": [
    "## BONUS (10% extra marks)\n",
    "You get bouns points if you make the plot using a single call to a plotting function.\n",
    "* _Tip: use pandas and seaborn for this_"
   ]
  },
  {
   "cell_type": "code",
   "execution_count": null,
   "id": "b3563782-d567-49d2-bbce-28f48bcc6376",
   "metadata": {
    "tags": []
   },
   "outputs": [],
   "source": [
    "# Your code goes here\n",
    "\n"
   ]
  },
  {
   "cell_type": "markdown",
   "id": "71cf4350-5ebb-4dcb-9ae1-b8fa11876b88",
   "metadata": {},
   "source": [
    "## Area under the curve\n",
    "You are not expected to code a function to calculate the area under the PR curve. Instead you have to use the provided function: `average_precision_score()` to obtain this value. \n",
    "\n",
    "_Make sure to check the relevant documentation for this sklearn function._\n",
    "* __Important: remember that we only care about the second column of our predicted probabilities!__"
   ]
  },
  {
   "cell_type": "code",
   "execution_count": null,
   "id": "fdc088f1-77c3-4f1b-8147-2c0bab2fc3eb",
   "metadata": {},
   "outputs": [],
   "source": [
    "# Fill in your code where necessary\n",
    "cnb_auprc = # your code goes here\n",
    "print(\"The AUPRC for the Categorical Naive Bayes classifier is: {}\".format(cnb_auprc))\n",
    "svm_auprc = # your code goes here\n",
    "print(\"The AUPRC for the SVM classifier is: {}\".format(svm_auprc))\n",
    "lr_auprc = # your code goes here\n",
    "print(\"The AUPRC for the Logistic Regression classifier is: {}\".format(lr_auprc))"
   ]
  },
  {
   "cell_type": "markdown",
   "id": "62ac994c-24d4-47ea-98d5-617c0d1a6074",
   "metadata": {},
   "source": [
    "After analyzing the PR curves and calculating the area under the curves, it should be apparent that the Categorical Naive Bayes classifier outperforms the other classifiers and is the most suitable option for this particular problem."
   ]
  },
  {
   "cell_type": "markdown",
   "id": "ed8bde74-1556-4a74-8813-8a13e8727d05",
   "metadata": {},
   "source": [
    "## Regression RMSE\n",
    "\n",
    "The final exercise of this coursework requires you to calculate the Root Mean Squared Error (RMSE) of a linear regression model that predicts house prices."
   ]
  },
  {
   "cell_type": "code",
   "execution_count": 10,
   "id": "d0b10496-4619-4f59-9792-acbbf4fd48aa",
   "metadata": {
    "tags": []
   },
   "outputs": [],
   "source": [
    "# Load the data and the pre-trained model\n",
    "boston_testing_data = pkl.load(open('boston_testing_data.p','rb'))\n",
    "linear_regression_model = pkl.load(open('linear_regression_model.p','rb'))"
   ]
  },
  {
   "cell_type": "markdown",
   "id": "1ce929fc-1a53-4cc3-8992-6c2188ec6d43",
   "metadata": {},
   "source": [
    "Again, we extract the testing features and the true values in separate variables. \n",
    "* __Important:__ I use different variable names because X_test and y_test are being used for exercise 2. There's no need for this, but just to avoid confusion and to not step on pre-existing variables"
   ]
  },
  {
   "cell_type": "code",
   "execution_count": 11,
   "id": "d1be59fc-aa1b-4b1b-97e8-1fd11d711b24",
   "metadata": {
    "tags": []
   },
   "outputs": [],
   "source": [
    "X_test_boston = boston_testing_data['X_test']\n",
    "y_test_boston = boston_testing_data['y_test']"
   ]
  },
  {
   "cell_type": "markdown",
   "id": "617ba712-5379-46e9-8bb5-8e9118bd9efa",
   "metadata": {
    "tags": []
   },
   "source": [
    "Let's now obtain the predicted values"
   ]
  },
  {
   "cell_type": "code",
   "execution_count": 12,
   "id": "facf2aa3-109d-4b98-ac13-675aca113bdb",
   "metadata": {
    "tags": []
   },
   "outputs": [],
   "source": [
    "y_predict_lin_reg = linear_regression_model.predict(X_test_boston)"
   ]
  },
  {
   "cell_type": "markdown",
   "id": "50633706-a221-4bff-8292-e8a2afdc4f72",
   "metadata": {},
   "source": [
    "## Calculating RMSE\n",
    "Now you have to write code to calculate the root mean squared error on the testing set for the linear regression model we just loaded.\n",
    "At the end, just print the RMSE value for verification."
   ]
  },
  {
   "cell_type": "code",
   "execution_count": null,
   "id": "da142768-c628-4558-8b9a-64943a0b7c42",
   "metadata": {},
   "outputs": [],
   "source": [
    "# Your code goes here\n",
    "\n"
   ]
  },
  {
   "cell_type": "markdown",
   "id": "3c15ab26-9881-4cee-82a9-a7c4149000fc",
   "metadata": {},
   "source": [
    "## BONUS (5% extra marks)\n",
    "You get this bonus marks if you are able to calculate the RMSE by vectorising your code, that is, no loops whatsoever."
   ]
  },
  {
   "cell_type": "code",
   "execution_count": null,
   "id": "bea1ff33-df8e-4a19-886b-79e349836838",
   "metadata": {},
   "outputs": [],
   "source": [
    "# Your code for the bonus marks goes here\n",
    "\n"
   ]
  }
 ],
 "metadata": {
  "kernelspec": {
   "display_name": "Python 3 (ipykernel)",
   "language": "python",
   "name": "python3"
  },
  "language_info": {
   "codemirror_mode": {
    "name": "ipython",
    "version": 3
   },
   "file_extension": ".py",
   "mimetype": "text/x-python",
   "name": "python",
   "nbconvert_exporter": "python",
   "pygments_lexer": "ipython3",
   "version": "3.12.2"
  }
 },
 "nbformat": 4,
 "nbformat_minor": 5
}
